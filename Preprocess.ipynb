{
 "cells": [
  {
   "cell_type": "code",
   "execution_count": 3,
   "metadata": {},
   "outputs": [],
   "source": [
    "import pandas as pd\n",
    "import nltk\n",
    "import string\n",
    "from french_lefff_lemmatizer.french_lefff_lemmatizer import FrenchLefffLemmatizer"
   ]
  },
  {
   "cell_type": "code",
   "execution_count": 4,
   "metadata": {},
   "outputs": [
    {
     "name": "stderr",
     "output_type": "stream",
     "text": [
      "[nltk_data] Downloading package wordnet to /Users/Jorg/nltk_data...\n",
      "[nltk_data]   Package wordnet is already up-to-date!\n",
      "[nltk_data] Downloading package punkt to /Users/Jorg/nltk_data...\n",
      "[nltk_data]   Package punkt is already up-to-date!\n",
      "[nltk_data] Downloading package stopwords to /Users/Jorg/nltk_data...\n",
      "[nltk_data]   Package stopwords is already up-to-date!\n"
     ]
    },
    {
     "data": {
      "text/plain": [
       "True"
      ]
     },
     "execution_count": 4,
     "metadata": {},
     "output_type": "execute_result"
    }
   ],
   "source": [
    "nltk.download('wordnet')\n",
    "nltk.download('punkt')\n",
    "nltk.download('stopwords')"
   ]
  },
  {
   "cell_type": "code",
   "execution_count": 5,
   "metadata": {},
   "outputs": [
    {
     "data": {
      "text/html": [
       "<div>\n",
       "<style scoped>\n",
       "    .dataframe tbody tr th:only-of-type {\n",
       "        vertical-align: middle;\n",
       "    }\n",
       "\n",
       "    .dataframe tbody tr th {\n",
       "        vertical-align: top;\n",
       "    }\n",
       "\n",
       "    .dataframe thead th {\n",
       "        text-align: right;\n",
       "    }\n",
       "</style>\n",
       "<table border=\"1\" class=\"dataframe\">\n",
       "  <thead>\n",
       "    <tr style=\"text-align: right;\">\n",
       "      <th></th>\n",
       "      <th>text</th>\n",
       "      <th>label</th>\n",
       "      <th>culture</th>\n",
       "      <th>document_id</th>\n",
       "      <th>annotation_id</th>\n",
       "      <th>source</th>\n",
       "    </tr>\n",
       "  </thead>\n",
       "  <tbody>\n",
       "    <tr>\n",
       "      <th>0</th>\n",
       "      <td>Eclairage de la gaine , à compléter rappel : 2</td>\n",
       "      <td>SH16</td>\n",
       "      <td>fr-fr</td>\n",
       "      <td>62baee150c69f839d30f8f65</td>\n",
       "      <td>62b2f92cc0979ee09ccce7ab</td>\n",
       "      <td>TRAINING</td>\n",
       "    </tr>\n",
       "    <tr>\n",
       "      <th>1</th>\n",
       "      <td>Le boitier métallique sur le toit de cabine es...</td>\n",
       "      <td>CAR23</td>\n",
       "      <td>fr-fr</td>\n",
       "      <td>62b1beee0e2b73b9d964e1e5</td>\n",
       "      <td>62b1bddbcb5dabb0b76331e9</td>\n",
       "      <td>TRAINING</td>\n",
       "    </tr>\n",
       "    <tr>\n",
       "      <th>2</th>\n",
       "      <td>Plaque d ' identification n ' est pas complète...</td>\n",
       "      <td>CAR26</td>\n",
       "      <td>fr-fr</td>\n",
       "      <td>626a83cbb9856f0321a63cf0</td>\n",
       "      <td>626a83a48e6b09e818279c76</td>\n",
       "      <td>TRAINING</td>\n",
       "    </tr>\n",
       "    <tr>\n",
       "      <th>3</th>\n",
       "      <td>Le bon fonctionnement du système appel de seco...</td>\n",
       "      <td>CAR01</td>\n",
       "      <td>fr-fr</td>\n",
       "      <td>6267d3d51fcf59b6b53377cd</td>\n",
       "      <td>6267a1795b5251e0ea710021</td>\n",
       "      <td>TRAINING</td>\n",
       "    </tr>\n",
       "    <tr>\n",
       "      <th>4</th>\n",
       "      <td>Les données du propriétaire sont à placer en c...</td>\n",
       "      <td>CAR06</td>\n",
       "      <td>fr-fr</td>\n",
       "      <td>62b1beee0e2b73b9d964e1e5</td>\n",
       "      <td>62b1bdb0cb5dabb0b76331e6</td>\n",
       "      <td>TRAINING</td>\n",
       "    </tr>\n",
       "    <tr>\n",
       "      <th>...</th>\n",
       "      <td>...</td>\n",
       "      <td>...</td>\n",
       "      <td>...</td>\n",
       "      <td>...</td>\n",
       "      <td>...</td>\n",
       "      <td>...</td>\n",
       "    </tr>\n",
       "    <tr>\n",
       "      <th>177</th>\n",
       "      <td>Dossier de sécurité : le rapport d ' analyse d...</td>\n",
       "      <td>DOC02</td>\n",
       "      <td>fr-fr</td>\n",
       "      <td>6267e4641fcf5985433b28b0</td>\n",
       "      <td>6267d68933387bce1ed044de</td>\n",
       "      <td>TRAINING</td>\n",
       "    </tr>\n",
       "    <tr>\n",
       "      <th>178</th>\n",
       "      <td>La vitre de la boîte à clé est absente .</td>\n",
       "      <td>CAR19</td>\n",
       "      <td>fr-fr</td>\n",
       "      <td>62b59bc0e91a4e221daa16e6</td>\n",
       "      <td>62b59b5815361571248badce</td>\n",
       "      <td>TRAINING</td>\n",
       "    </tr>\n",
       "    <tr>\n",
       "      <th>179</th>\n",
       "      <td>Nettoyer la cuvette 1 e Répétition</td>\n",
       "      <td>SH01</td>\n",
       "      <td>fr-fr</td>\n",
       "      <td>626a85c8b9856f4085a7b987</td>\n",
       "      <td>626a84bd8e6b09e818279c7a</td>\n",
       "      <td>TRAINING</td>\n",
       "    </tr>\n",
       "    <tr>\n",
       "      <th>180</th>\n",
       "      <td>Veuillez fixer les 3 poids dont la taille ne p...</td>\n",
       "      <td>CW01</td>\n",
       "      <td>fr-fr</td>\n",
       "      <td>62b1beeb0e2b733fd8648381</td>\n",
       "      <td>62b1bcbecb5dabb0b76331e3</td>\n",
       "      <td>TRAINING</td>\n",
       "    </tr>\n",
       "    <tr>\n",
       "      <th>181</th>\n",
       "      <td>Dossier de sécurité : les documents concernant...</td>\n",
       "      <td>MOD</td>\n",
       "      <td>fr-fr</td>\n",
       "      <td>6267e4641fcf5985433b28b0</td>\n",
       "      <td>6267d69933387bce1ed044df</td>\n",
       "      <td>TRAINING</td>\n",
       "    </tr>\n",
       "  </tbody>\n",
       "</table>\n",
       "<p>182 rows × 6 columns</p>\n",
       "</div>"
      ],
      "text/plain": [
       "                                                  text  label culture  \\\n",
       "0       Eclairage de la gaine , à compléter rappel : 2   SH16   fr-fr   \n",
       "1    Le boitier métallique sur le toit de cabine es...  CAR23   fr-fr   \n",
       "2    Plaque d ' identification n ' est pas complète...  CAR26   fr-fr   \n",
       "3    Le bon fonctionnement du système appel de seco...  CAR01   fr-fr   \n",
       "4    Les données du propriétaire sont à placer en c...  CAR06   fr-fr   \n",
       "..                                                 ...    ...     ...   \n",
       "177  Dossier de sécurité : le rapport d ' analyse d...  DOC02   fr-fr   \n",
       "178           La vitre de la boîte à clé est absente .  CAR19   fr-fr   \n",
       "179                 Nettoyer la cuvette 1 e Répétition   SH01   fr-fr   \n",
       "180  Veuillez fixer les 3 poids dont la taille ne p...   CW01   fr-fr   \n",
       "181  Dossier de sécurité : les documents concernant...    MOD   fr-fr   \n",
       "\n",
       "                  document_id             annotation_id    source  \n",
       "0    62baee150c69f839d30f8f65  62b2f92cc0979ee09ccce7ab  TRAINING  \n",
       "1    62b1beee0e2b73b9d964e1e5  62b1bddbcb5dabb0b76331e9  TRAINING  \n",
       "2    626a83cbb9856f0321a63cf0  626a83a48e6b09e818279c76  TRAINING  \n",
       "3    6267d3d51fcf59b6b53377cd  6267a1795b5251e0ea710021  TRAINING  \n",
       "4    62b1beee0e2b73b9d964e1e5  62b1bdb0cb5dabb0b76331e6  TRAINING  \n",
       "..                        ...                       ...       ...  \n",
       "177  6267e4641fcf5985433b28b0  6267d68933387bce1ed044de  TRAINING  \n",
       "178  62b59bc0e91a4e221daa16e6  62b59b5815361571248badce  TRAINING  \n",
       "179  626a85c8b9856f4085a7b987  626a84bd8e6b09e818279c7a  TRAINING  \n",
       "180  62b1beeb0e2b733fd8648381  62b1bcbecb5dabb0b76331e3  TRAINING  \n",
       "181  6267e4641fcf5985433b28b0  6267d69933387bce1ed044df  TRAINING  \n",
       "\n",
       "[182 rows x 6 columns]"
      ]
     },
     "execution_count": 5,
     "metadata": {},
     "output_type": "execute_result"
    }
   ],
   "source": [
    "df = pd.read_csv('./Post_Data/TRAINING2.csv')\n",
    "df.drop(df[(df[\"culture\"] == \"nl-nl\")].index, inplace = True)\n",
    "df.drop_duplicates()"
   ]
  },
  {
   "cell_type": "code",
   "execution_count": null,
   "metadata": {},
   "outputs": [],
   "source": [
    "french_stopwords = nltk.corpus.stopwords.words('french')\n",
    "mots = set(line.strip() for line in open('dictionnaire.txt', encoding=\"utf8\"))\n",
    "lemmatizer = FrenchLefffLemmatizer()"
   ]
  },
  {
   "cell_type": "code",
   "execution_count": null,
   "metadata": {},
   "outputs": [],
   "source": [
    "def French_Preprocess_listofSentence(listofSentence):\n",
    " preprocess_list = []\n",
    " for sentence in listofSentence :\n",
    "  sentence_w_punct = \"\".join([i.lower() for i in sentence if i not in string.punctuation])\n",
    "  sentence_w_num = ''.join(i for i in sentence_w_punct if not i.isdigit())\n",
    "  tokenize_sentence = nltk.tokenize.word_tokenize(sentence_w_num)\n",
    "  words_w_stopwords = [i for i in tokenize_sentence if i not in french_stopwords]\n",
    "  words_lemmatize = (lemmatizer.lemmatize(w) for w in words_w_stopwords)\n",
    "  sentence_clean = ' '.join(w for w in words_lemmatize if w.lower() in mots or not w.isalpha())\n",
    "  preprocess_list.append(sentence_clean)\n",
    " return preprocess_list"
   ]
  },
  {
   "cell_type": "code",
   "execution_count": null,
   "metadata": {},
   "outputs": [],
   "source": [
    "french_preprocess_list = French_Preprocess_listofSentence(df[\"text\"])"
   ]
  },
  {
   "cell_type": "code",
   "execution_count": null,
   "metadata": {},
   "outputs": [],
   "source": [
    "save_csv = pd.DataFrame(french_preprocess_list)\n",
    "save_csv = pd.concat([df[\"label\"], save_csv], axis=1)\n",
    "save_csv = save_csv.rename(columns={0: \"text\"})\n",
    "save_csv.to_csv('french_preprocess_list_jorg.csv', index=False)"
   ]
  }
 ],
 "metadata": {
  "kernelspec": {
   "display_name": "Python 3.9.13 ('NLP-ML')",
   "language": "python",
   "name": "python3"
  },
  "language_info": {
   "codemirror_mode": {
    "name": "ipython",
    "version": 3
   },
   "file_extension": ".py",
   "mimetype": "text/x-python",
   "name": "python",
   "nbconvert_exporter": "python",
   "pygments_lexer": "ipython3",
   "version": "3.9.13"
  },
  "orig_nbformat": 4,
  "vscode": {
   "interpreter": {
    "hash": "12518f93acdd6b7d1943c610b6ce0874ef8a914b22b93bf6bcdfddea2c050673"
   }
  }
 },
 "nbformat": 4,
 "nbformat_minor": 2
}

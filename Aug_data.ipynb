{
 "cells": [
  {
   "cell_type": "code",
   "execution_count": null,
   "metadata": {},
   "outputs": [],
   "source": [
    "import nlpaug.augmenter.word as naw\n",
    "import pandas as pd\n",
    "import numpy as np"
   ]
  },
  {
   "cell_type": "code",
   "execution_count": null,
   "metadata": {},
   "outputs": [],
   "source": [
    "df = pd.read_csv('./Post_Data/Training_data.csv')"
   ]
  },
  {
   "cell_type": "code",
   "execution_count": null,
   "metadata": {},
   "outputs": [],
   "source": [
    "# Augmenter\n",
    "for index, row in df.iterrows():\n",
    "    aug = naw.RandomWordAug(action='swap', aug_p=0.6, aug_max=9)\n",
    "    mod_sentence = aug.augment(row['text'], n=3)\n",
    "    dict = {'text': mod_sentence, 'label': [row['label']] * 3}\n",
    "    df2 = pd.DataFrame(data=dict)\n",
    "    df = df.append(df2, ignore_index=True)\n",
    "print(df)\n",
    "\n",
    "df.to_csv('./Post_Data/Training_data_augmented_3.csv', index=False)"
   ]
  }
 ],
 "metadata": {
  "kernelspec": {
   "display_name": "Python 3.9.13 ('NLP-ML')",
   "language": "python",
   "name": "python3"
  },
  "language_info": {
   "codemirror_mode": {
    "name": "ipython",
    "version": 3
   },
   "file_extension": ".py",
   "mimetype": "text/x-python",
   "name": "python",
   "nbconvert_exporter": "python",
   "pygments_lexer": "ipython3",
   "version": "3.9.13"
  },
  "orig_nbformat": 4,
  "vscode": {
   "interpreter": {
    "hash": "12518f93acdd6b7d1943c610b6ce0874ef8a914b22b93bf6bcdfddea2c050673"
   }
  }
 },
 "nbformat": 4,
 "nbformat_minor": 2
}

{
 "cells": [
  {
   "cell_type": "code",
   "execution_count": 5,
   "metadata": {},
   "outputs": [],
   "source": [
    "import nlpaug.augmenter.word as naw\n",
    "import pandas as pd\n",
    "import numpy as np"
   ]
  },
  {
   "cell_type": "code",
   "execution_count": 6,
   "metadata": {},
   "outputs": [],
   "source": [
    "df = pd.read_csv('./Post_Data/Training_data.csv')"
   ]
  },
  {
   "cell_type": "code",
   "execution_count": 7,
   "metadata": {},
   "outputs": [
    {
     "name": "stdout",
     "output_type": "stream",
     "text": [
      "     label                                               text\n",
      "0     SH16                             gaine compléter rappel\n",
      "1    CAR23                métallique toit cabine correctement\n",
      "2    CAR26  plaque identification complète correcte charge...\n",
      "3    CAR01  bon fonctionnement système appel secours cabin...\n",
      "4    CAR06                  donnée propriétaire placer cabine\n",
      "..     ...                                                ...\n",
      "723   CW01  Poids fixer veuillez taille dont permet risque...\n",
      "724   CW01  fixer poids veuillez taille permet dont blocag...\n",
      "725    MOD  Dossier sécurité programme document modernisat...\n",
      "726    MOD  sécurité dossier document concernant exécution...\n",
      "727    MOD  Dossier sécurité document concernant programme...\n",
      "\n",
      "[728 rows x 2 columns]\n"
     ]
    },
    {
     "name": "stderr",
     "output_type": "stream",
     "text": [
      "/var/folders/nh/_lkctsl16l393rkzcyztswd80000gn/T/ipykernel_9733/2303502002.py:7: FutureWarning: The frame.append method is deprecated and will be removed from pandas in a future version. Use pandas.concat instead.\n",
      "  df = df.append(df2, ignore_index=True)\n"
     ]
    }
   ],
   "source": [
    "# Augmenter\n",
    "for index, row in df.iterrows():\n",
    "    aug = naw.RandomWordAug(action='swap', aug_p=0.6, aug_max=9)\n",
    "    mod_sentence = aug.augment(row['text'], n=3)\n",
    "    dict = {'text': mod_sentence, 'label': [row['label']] * 3}\n",
    "    df2 = pd.DataFrame(data=dict)\n",
    "    df = df.append(df2, ignore_index=True)\n",
    "print(df)\n",
    "\n",
    "df.to_csv('./Post_Data/Training_data_augmented_3.csv', index=False)"
   ]
  }
 ],
 "metadata": {
  "kernelspec": {
   "display_name": "Python 3.9.13 ('Camem')",
   "language": "python",
   "name": "python3"
  },
  "language_info": {
   "codemirror_mode": {
    "name": "ipython",
    "version": 3
   },
   "file_extension": ".py",
   "mimetype": "text/x-python",
   "name": "python",
   "nbconvert_exporter": "python",
   "pygments_lexer": "ipython3",
   "version": "3.9.13"
  },
  "orig_nbformat": 4,
  "vscode": {
   "interpreter": {
    "hash": "0112a2845a759dc901fe0a21d348bab05a5dd04984f6eacd72c02dbb62a5c612"
   }
  }
 },
 "nbformat": 4,
 "nbformat_minor": 2
}

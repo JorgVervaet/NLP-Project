{
 "cells": [
  {
   "cell_type": "code",
   "execution_count": 1,
   "metadata": {},
   "outputs": [
    {
     "name": "stdout",
     "output_type": "stream",
     "text": [
      "                                                  text  label culture  \\\n",
      "0       Eclairage de la gaine , à compléter rappel : 2   SH16   fr-fr   \n",
      "4    Le boitier métallique sur le toit de cabine es...  CAR23   fr-fr   \n",
      "5    Plaque d ' identification n ' est pas complète...  CAR26   fr-fr   \n",
      "6    Le bon fonctionnement du système appel de seco...  CAR01   fr-fr   \n",
      "8    Les données du propriétaire sont à placer en c...  CAR06   fr-fr   \n",
      "..                                                 ...    ...     ...   \n",
      "517  Dossier de sécurité : le rapport d ' analyse d...  DOC02   fr-fr   \n",
      "518           La vitre de la boîte à clé est absente .  CAR19   fr-fr   \n",
      "519                 Nettoyer la cuvette 1 e Répétition   SH01   fr-fr   \n",
      "523  Veuillez fixer les 3 poids dont la taille ne p...   CW01   fr-fr   \n",
      "524  Dossier de sécurité : les documents concernant...    MOD   fr-fr   \n",
      "\n",
      "                  document_id             annotation_id    source  \n",
      "0    62baee150c69f839d30f8f65  62b2f92cc0979ee09ccce7ab  TRAINING  \n",
      "4    62b1beee0e2b73b9d964e1e5  62b1bddbcb5dabb0b76331e9  TRAINING  \n",
      "5    626a83cbb9856f0321a63cf0  626a83a48e6b09e818279c76  TRAINING  \n",
      "6    6267d3d51fcf59b6b53377cd  6267a1795b5251e0ea710021  TRAINING  \n",
      "8    62b1beee0e2b73b9d964e1e5  62b1bdb0cb5dabb0b76331e6  TRAINING  \n",
      "..                        ...                       ...       ...  \n",
      "517  6267e4641fcf5985433b28b0  6267d68933387bce1ed044de  TRAINING  \n",
      "518  62b59bc0e91a4e221daa16e6  62b59b5815361571248badce  TRAINING  \n",
      "519  626a85c8b9856f4085a7b987  626a84bd8e6b09e818279c7a  TRAINING  \n",
      "523  62b1beeb0e2b733fd8648381  62b1bcbecb5dabb0b76331e3  TRAINING  \n",
      "524  6267e4641fcf5985433b28b0  6267d69933387bce1ed044df  TRAINING  \n",
      "\n",
      "[186 rows x 6 columns]\n"
     ]
    }
   ],
   "source": [
    "import pandas as pd\n",
    "import json\n",
    "import csv\n",
    "\n",
    "df = pd.read_json('./Pre_Data/kone_classification.json')\n",
    "\n",
    "df = df.drop_duplicates()\n",
    "df = df[df[\"source\"].str.contains(\"WORKFLOW\")==False]\n",
    "df.to_csv('./Post_Data/TRAINING.csv', index=False)\n",
    "print(df)\n"
   ]
  },
  {
   "cell_type": "code",
   "execution_count": null,
   "metadata": {},
   "outputs": [],
   "source": [
    "import pandas as pd\n",
    "import glob\n",
    "import os\n",
    "import csv\n",
    "\n",
    "files = os.path.join(\"./Pre_Data/\", \"*.csv\")\n",
    "df = pd.concat((pd.read_csv(f) for f in glob.glob(files)), ignore_index = True)\n",
    "print(df)\n",
    "df.to_csv(\"./Post_Data/kone.csv\", index=False)\n"
   ]
  },
  {
   "cell_type": "code",
   "execution_count": null,
   "metadata": {},
   "outputs": [],
   "source": [
    "import pandas as pd\n",
    "\n",
    "kone = pd.read_csv('./Post_Data/kone2.csv', sep=';')\n",
    "csv = pd.read_csv('./Post_Data/Training_data.csv')\n",
    "\n",
    "csv = csv['label']\n",
    "kone2 = kone['Code']\n",
    "\n",
    "for i in kone2:\n",
    "    if i in csv:\n",
    "        pass\n",
    "    else:\n",
    "        kone.drop([i])\n",
    "\n",
    "print(kone)\n"
   ]
  },
  {
   "cell_type": "code",
   "execution_count": null,
   "metadata": {},
   "outputs": [],
   "source": [
    "import pandas as pd\n",
    "\n",
    "df = pd.read_csv('./Post_Data/TRAINING.csv')\n",
    "df.drop(df[(df[\"culture\"] == \"nl-nl\")].index, inplace = True)\n",
    "df.drop_duplicates()\n",
    "print(df)\n",
    "\n",
    "df.to_csv('./Post_Data/TRAINING2.csv', index=False)"
   ]
  }
 ],
 "metadata": {
  "kernelspec": {
   "display_name": "Python 3.9.13 ('BERT')",
   "language": "python",
   "name": "python3"
  },
  "language_info": {
   "codemirror_mode": {
    "name": "ipython",
    "version": 3
   },
   "file_extension": ".py",
   "mimetype": "text/x-python",
   "name": "python",
   "nbconvert_exporter": "python",
   "pygments_lexer": "ipython3",
   "version": "3.9.13"
  },
  "orig_nbformat": 4,
  "vscode": {
   "interpreter": {
    "hash": "7e2304429644233c470f56a0e6cab754f8e024a2fe00e394fbe27d2a8ed52f71"
   }
  }
 },
 "nbformat": 4,
 "nbformat_minor": 2
}

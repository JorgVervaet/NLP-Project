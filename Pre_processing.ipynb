{
 "cells": [
  {
   "cell_type": "code",
   "execution_count": null,
   "metadata": {},
   "outputs": [],
   "source": [
    "import pandas as pd\n",
    "import json\n",
    "import csv\n",
    "\n",
    "df = pd.read_json('./Pre_Data/kone_classification.json')\n",
    "\n",
    "df = df.drop_duplicates()\n",
    "df = df[df[\"source\"].str.contains(\"WORKFLOW\")==False]\n",
    "df.to_csv('./Post_Data/TRAINING.csv', index=False)\n",
    "print(df)\n"
   ]
  },
  {
   "cell_type": "code",
   "execution_count": null,
   "metadata": {},
   "outputs": [],
   "source": [
    "import pandas as pd\n",
    "import glob\n",
    "import os\n",
    "import csv\n",
    "\n",
    "files = os.path.join(\"./Pre_Data/\", \"*.csv\")\n",
    "df = pd.concat((pd.read_csv(f) for f in glob.glob(files)), ignore_index = True)\n",
    "print(df)\n",
    "df.to_csv(\"./Post_Data/kone.csv\", index=False)\n"
   ]
  },
  {
   "cell_type": "code",
   "execution_count": null,
   "metadata": {},
   "outputs": [],
   "source": [
    "import pandas as pd\n",
    "\n",
    "kone = pd.read_csv('./Post_Data/kone2.csv', sep=';')\n",
    "csv = pd.read_csv('./Post_Data/Training_data.csv')\n",
    "\n",
    "csv = csv['label']\n",
    "kone2 = kone['Code']\n",
    "\n",
    "for i in kone2:\n",
    "    if i in csv:\n",
    "        pass\n",
    "    else:\n",
    "        kone.drop([i])\n",
    "\n",
    "print(kone)\n"
   ]
  }
 ],
 "metadata": {
  "kernelspec": {
   "display_name": "Python 3.9.13 ('BERT')",
   "language": "python",
   "name": "python3"
  },
  "language_info": {
   "codemirror_mode": {
    "name": "ipython",
    "version": 3
   },
   "file_extension": ".py",
   "mimetype": "text/x-python",
   "name": "python",
   "nbconvert_exporter": "python",
   "pygments_lexer": "ipython3",
   "version": "3.9.13"
  },
  "orig_nbformat": 4,
  "vscode": {
   "interpreter": {
    "hash": "7e2304429644233c470f56a0e6cab754f8e024a2fe00e394fbe27d2a8ed52f71"
   }
  }
 },
 "nbformat": 4,
 "nbformat_minor": 2
}

{
 "cells": [
  {
   "cell_type": "code",
   "execution_count": 1,
   "metadata": {},
   "outputs": [
    {
     "name": "stderr",
     "output_type": "stream",
     "text": [
      "/Users/Jorg/miniconda3/envs/Camem/lib/python3.9/site-packages/tqdm/auto.py:22: TqdmWarning: IProgress not found. Please update jupyter and ipywidgets. See https://ipywidgets.readthedocs.io/en/stable/user_install.html\n",
      "  from .autonotebook import tqdm as notebook_tqdm\n"
     ]
    }
   ],
   "source": [
    "import nlpaug.augmenter.word as naw\n",
    "import pandas as pd\n",
    "import numpy as np"
   ]
  },
  {
   "cell_type": "code",
   "execution_count": 2,
   "metadata": {},
   "outputs": [],
   "source": [
    "df = pd.read_csv('./Post_Data/Training_data.csv')"
   ]
  },
  {
   "cell_type": "code",
   "execution_count": 3,
   "metadata": {},
   "outputs": [
    {
     "data": {
      "text/plain": [
       "0                               gaine compléter rappel\n",
       "1                  métallique toit cabine correctement\n",
       "2    plaque identification complète correcte charge...\n",
       "3    bon fonctionnement système appel secours cabin...\n",
       "4                    donnée propriétaire placer cabine\n",
       "Name: text, dtype: object"
      ]
     },
     "execution_count": 3,
     "metadata": {},
     "output_type": "execute_result"
    }
   ],
   "source": [
    "df['text'].head()"
   ]
  },
  {
   "cell_type": "code",
   "execution_count": 4,
   "metadata": {},
   "outputs": [
    {
     "data": {
      "text/plain": [
       "['Gaine compléter rappel',\n",
       " 'Rappel gaine compléter',\n",
       " 'compléter rappel gaine',\n",
       " 'rappel gaine compléter',\n",
       " 'rappel gaine compléter',\n",
       " 'Gaine compléter rappel',\n",
       " 'rappel gaine compléter',\n",
       " 'gaine compléter rappel',\n",
       " 'rappel gaine compléter']"
      ]
     },
     "execution_count": 4,
     "metadata": {},
     "output_type": "execute_result"
    }
   ],
   "source": [
    "# Augmenter\n",
    "aug = naw.RandomWordAug(action='swap', aug_p=0.6, aug_max=9)\n",
    "mod_sentence = aug.augment(df['text'][0], n=9)\n",
    "mod_sentence\n"
   ]
  },
  {
   "cell_type": "code",
   "execution_count": null,
   "metadata": {},
   "outputs": [],
   "source": [
    "for i in df['text']:\n",
    "    for e in df['label']:\n",
    "        mod_sentence = aug.augment(i, n=9)\n",
    "        df = df.append({'text': mod_sentence, 'label': e}, ignore_index=True)\n",
    "    \n",
    "print(df)\n",
    "\"\"\"\n",
    "aug_randowm = naw.RandomWordAug()\n",
    "augmented_data = aug.augment(df['text'][1], n=5)\n",
    "print(augmented_data)\n",
    "\"\"\""
   ]
  },
  {
   "cell_type": "code",
   "execution_count": null,
   "metadata": {},
   "outputs": [],
   "source": [
    "def Random_swap(df):\n",
    "        for i in range(len(df)):\n",
    "            aug = naw.RandomWordAug(action='swap', aug_p=0.6, aug_max=9)\n",
    "            mod_sentence = aug.augment(df['text'][i], n=9)\n",
    "            \n",
    "            df['text'][i] = mod_sentence\n",
    "        return df"
   ]
  },
  {
   "cell_type": "code",
   "execution_count": null,
   "metadata": {},
   "outputs": [],
   "source": [
    "print(df)"
   ]
  },
  {
   "cell_type": "code",
   "execution_count": null,
   "metadata": {},
   "outputs": [],
   "source": [
    "save = pd.DataFrame(Random_swap(df))\n",
    "save.to_csv('random_preprocess.csv', index=False)"
   ]
  },
  {
   "cell_type": "code",
   "execution_count": null,
   "metadata": {},
   "outputs": [],
   "source": [
    "rdr = pd.read_csv('random_preprocess.csv')\n",
    "rdr.head()"
   ]
  },
  {
   "cell_type": "code",
   "execution_count": null,
   "metadata": {},
   "outputs": [],
   "source": []
  }
 ],
 "metadata": {
  "kernelspec": {
   "display_name": "Python 3.9.13 ('Camem')",
   "language": "python",
   "name": "python3"
  },
  "language_info": {
   "codemirror_mode": {
    "name": "ipython",
    "version": 3
   },
   "file_extension": ".py",
   "mimetype": "text/x-python",
   "name": "python",
   "nbconvert_exporter": "python",
   "pygments_lexer": "ipython3",
   "version": "3.9.13"
  },
  "orig_nbformat": 4,
  "vscode": {
   "interpreter": {
    "hash": "0112a2845a759dc901fe0a21d348bab05a5dd04984f6eacd72c02dbb62a5c612"
   }
  }
 },
 "nbformat": 4,
 "nbformat_minor": 2
}

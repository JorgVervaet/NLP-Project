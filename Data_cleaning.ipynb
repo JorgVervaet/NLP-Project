{
 "cells": [
  {
   "cell_type": "code",
   "execution_count": null,
   "id": "ce6b61af",
   "metadata": {},
   "outputs": [],
   "source": [
    "import pandas as pd\n",
    "\n",
    "df = pd.read_json(' ')\n",
    "df.head()"
   ]
  },
  {
   "cell_type": "code",
   "execution_count": null,
   "id": "47472840",
   "metadata": {},
   "outputs": [],
   "source": [
    "df.label.nunique()"
   ]
  },
  {
   "cell_type": "code",
   "execution_count": null,
   "id": "57f6ee62",
   "metadata": {},
   "outputs": [],
   "source": [
    "df.culture.value_counts()"
   ]
  },
  {
   "cell_type": "code",
   "execution_count": null,
   "id": "be13c168",
   "metadata": {},
   "outputs": [],
   "source": [
    "df.drop_duplicates()"
   ]
  },
  {
   "cell_type": "code",
   "execution_count": null,
   "id": "b8025f42",
   "metadata": {},
   "outputs": [],
   "source": [
    "df.drop(df[(df[\"source\"] == \"WORKFLOW\")].index, inplace = True)\n",
    "df"
   ]
  },
  {
   "cell_type": "code",
   "execution_count": null,
   "id": "e7e3040d",
   "metadata": {},
   "outputs": [],
   "source": [
    "df.label.nunique()"
   ]
  },
  {
   "cell_type": "code",
   "execution_count": null,
   "id": "0674b148",
   "metadata": {},
   "outputs": [],
   "source": [
    "df.drop(df[(df[\"culture\"] == \"nl-nl\")].index, inplace = True)\n",
    "df"
   ]
  },
  {
   "cell_type": "code",
   "execution_count": null,
   "id": "483083f8",
   "metadata": {},
   "outputs": [],
   "source": [
    "df.label.nunique()"
   ]
  },
  {
   "cell_type": "code",
   "execution_count": null,
   "id": "2b1a49f1",
   "metadata": {},
   "outputs": [],
   "source": [
    "df['text'].iloc[70]"
   ]
  },
  {
   "cell_type": "code",
   "execution_count": null,
   "id": "609a9152",
   "metadata": {},
   "outputs": [],
   "source": [
    "df['text'] = df['text'].str.replace(r'[^\\w\\s]|.:,*\"', '', regex=True)\n",
    "df"
   ]
  },
  {
   "cell_type": "code",
   "execution_count": null,
   "id": "dacceaee",
   "metadata": {},
   "outputs": [],
   "source": [
    "df['text'] = df['text'].str.lower()\n",
    "df"
   ]
  },
  {
   "cell_type": "code",
   "execution_count": null,
   "id": "c3d391aa",
   "metadata": {},
   "outputs": [],
   "source": [
    "import spacy\n",
    "nlp = spacy.load('fr_core_news_sm')\n",
    "doc = nlp(df[\"text\"].iloc[140])\n",
    "print(doc.text)\n",
    "clean_token = []\n",
    "for token in doc:\n",
    "    if not(token.is_stop):\n",
    "        clean_token.append(token.text)\n",
    "print(clean_token)"
   ]
  },
  {
   "cell_type": "code",
   "execution_count": null,
   "id": "041e1598",
   "metadata": {},
   "outputs": [],
   "source": [
    "df.to_csv(\"Training_data.csv\", index=False)\n",
    "df"
   ]
  },
  {
   "cell_type": "code",
   "execution_count": null,
   "id": "52429b98",
   "metadata": {},
   "outputs": [],
   "source": [
    "import pandas as pd\n",
    "import glob\n",
    "import os\n",
    "import csv\n",
    "\n",
    "files = os.path.join(\" \", \"*.csv\")\n",
    "df1 = pd.concat((pd.read_csv(f) for f in glob.glob(files)), ignore_index = True)\n",
    "df1.to_csv(\"kone.csv\", index=False)\n",
    "df1"
   ]
  },
  {
   "cell_type": "code",
   "execution_count": null,
   "id": "bf3bcbf8",
   "metadata": {},
   "outputs": [],
   "source": [
    "df1.Code.nunique()"
   ]
  }
 ],
 "metadata": {
  "kernelspec": {
   "display_name": "Python 3 (ipykernel)",
   "language": "python",
   "name": "python3"
  },
  "language_info": {
   "codemirror_mode": {
    "name": "ipython",
    "version": 3
   },
   "file_extension": ".py",
   "mimetype": "text/x-python",
   "name": "python",
   "nbconvert_exporter": "python",
   "pygments_lexer": "ipython3",
   "version": "3.9.7"
  }
 },
 "nbformat": 4,
 "nbformat_minor": 5
}
